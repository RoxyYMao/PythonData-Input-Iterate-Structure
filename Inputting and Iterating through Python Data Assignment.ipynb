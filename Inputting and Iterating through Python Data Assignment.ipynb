{
 "cells": [
  {
   "cell_type": "markdown",
   "metadata": {},
   "source": [
    "# Exercise 1: Visualize a MNIST Character\n",
    "\n",
    "The MNIST data set is often used a people's first example in a neural networks course.  It is a database fo 60,000 handwritten images of numerical digits from 0 to 9.  Your Artificial Intelligence course will also take this tack. Here is a link to the origin of the MNIST dataset: [MNIST Origin Page](http://yann.lecun.com/exdb/mnist/). Here is a more convenient place to download the MNIST data in CSV format: [MNIST in CSV from Kaggle](https://www.kaggle.com/oddrationale/mnist-in-csv/downloads/mnist-in-csv.zip/2/).  I have downloaded the data from the second source and made it available to you.  Its zip file includes two files <i>mnist_test.csv</i> and <i>mnist_train.csv</i>.  We will use the former file, which included 10,000 images. \n",
    "\n",
    "Each MNIST character is 28 $\\times$ 28 pixels, each of which are coded in grayscale as represented by a digit from 0 to 255.  The data for each image in <i>mnist_train.csv</i> is given as 784 characters ($28 \\times 28$) on a single line.\n",
    "\n",
    "The data for one example MNIST character from the file _ministEg.txt_ is shown below as is the character it represents.  The original MNIST data have been converted into 28 lines of 28 data elements so that it can be more easily inputted into a 28 $\\times$ 28 array or list of lists and, subsequently, rendered by matplotlib.     \n",
    "![MNIST Example Data](mnistEg.jpg)\n",
    "![MNIST character Image](mnist7.jpg)\n",
    "\n",
    "## The Task\n",
    "Import the data from   <i>ministEg.txt</i>, put it into a list of lists with numerical elements, and plot it with the _matplotlib_ package as was done in lecture with other images.  Specifically, render the image using the _plt.imshow()_ and _plt.show()_ commands as we did in class.  The argument <i>cmap = 'gray'</i> communicates to _matplotlib_ that the data reflect a grayscale image.  The import statement and the aforementioned commands are included in the cell below for convenience."
   ]
  },
  {
   "cell_type": "code",
   "execution_count": null,
   "metadata": {
    "collapsed": true
   },
   "outputs": [],
   "source": [
    "import matplotlib.pyplot as plt\n",
    "\n",
    "\n",
    "\n",
    "plt.imshow(pixels, cmap='gray')        \n",
    "plt.show()  "
   ]
  },
  {
   "cell_type": "markdown",
   "metadata": {},
   "source": [
    "# Exercise 2: Import data from <i>mnist_train.csv</i> and create two lists from it \n",
    "\n",
    "- Create a variable named _labels_ that is a list of the 0th element in each line of the <i>mnist_train.csv</i> file that denotes which integer is represented in the image.  \n",
    "- Create a second variable _pixels_, which contains _flattened_ representations of the image data with a number of rows (sublists) equal to the number of images with each row having 784 data points.  This flattened format is required with some neural network models.\n",
    "- The first row of <i>mnist_train.csv</i> contains column headings.  You may ignore this row.\n",
    "- Place the contents of the first 10 rows into _label_ and _pixels_ and print those first 10 elements from _labels_ and _pixels_."
   ]
  },
  {
   "cell_type": "code",
   "execution_count": null,
   "metadata": {
    "collapsed": true
   },
   "outputs": [],
   "source": []
  },
  {
   "cell_type": "code",
   "execution_count": null,
   "metadata": {
    "collapsed": true
   },
   "outputs": [],
   "source": []
  },
  {
   "cell_type": "markdown",
   "metadata": {},
   "source": [
    "# Exercise 3: Import data from  <i>mnist_train.csv</i> and create a list of lists\n",
    "\n",
    "<i>mnist_train.csv</i> gives the data for the 784 pixels of each character on a single line, with the first element being the _label_ of the image, which indicates the numerical digit represented in the image. The first line of the file is a legend that describes the format of the remaining 10,000 lines.  \n",
    "\n",
    "- Create a variable named _mnist_, which ultimately will be a list of lists\n",
    "- Do the following for the lines in <i>mnist_train.csv</i>\n",
    "    - Insert a sublist into the list named _mnist_ for each line in <i>mnist_train.csv</i> \n",
    "    - The 0-th element in the sublists should be the image label\n",
    "    - The 1-st element in the sublists should be a 1-dimensional list of the image data\n",
    "- Note that the _mnist_ list of lists has a maximum depth of three lists, that is, it is a list of lists of lists. "
   ]
  },
  {
   "cell_type": "code",
   "execution_count": null,
   "metadata": {
    "collapsed": true
   },
   "outputs": [],
   "source": []
  },
  {
   "cell_type": "markdown",
   "metadata": {},
   "source": [
    "# Exercise 4\n",
    "Modify your solution to <b> Exercise 3</b> so that the new lists of lists <i>mnist1</i>  has these elements:\n",
    "- Its 0th element is the image label\n",
    "- Its 1st element is a list of lists with 28 sublists each with 28 elements\n",
    "When this task is successfully finished, you should be able to plot characters with the code in the second cell below."
   ]
  },
  {
   "cell_type": "code",
   "execution_count": null,
   "metadata": {
    "collapsed": true
   },
   "outputs": [],
   "source": []
  },
  {
   "cell_type": "code",
   "execution_count": null,
   "metadata": {
    "collapsed": true
   },
   "outputs": [],
   "source": [
    "# This code will render the specified MNIST images if the exercise above is done successfully\n",
    "import matplotlib.pyplot as plt\n",
    "\n",
    "characterIndex = 0  # line number index from text file from 0 to 9\n",
    "print('MNIST label: ',mnist[characterIndex][0])\n",
    "plt.imshow(mnist1[characterIndex][1], cmap='gray')        \n",
    "plt.show()  "
   ]
  },
  {
   "cell_type": "markdown",
   "metadata": {},
   "source": [
    "# Exercise 5: Alter the  _mnistEg.txt_ Image file \n",
    "\n",
    "Read in the file _mnistEg.txt_ and alter the data so that the pixels on both diagonals are red.  In other words, there should be a red 'X' over the top of the image.  Render the image with matplotlib.\n",
    "\n",
    "Hints: Gray scale colors have equal proportions red, green, and blue (RGB) hues, as in these exmaples:    \n",
    "    - Black: (R,G,B) = (0,0,0)\n",
    "    - White: (R,G,B) = (255,255,255)\n",
    "    - Medium Gray: (R,G,B) = (128,128,128)\n",
    "    - Dark Gray: (R,G,B) = (80,80,80)\n",
    "Also, the RGB code for red is (255,0,0)."
   ]
  },
  {
   "cell_type": "code",
   "execution_count": null,
   "metadata": {
    "collapsed": true
   },
   "outputs": [],
   "source": []
  },
  {
   "cell_type": "markdown",
   "metadata": {},
   "source": [
    "# Exercise 6\n",
    "\n",
    "Open the file named _Q.txt_ and convert it into a list of lists with numerical elements where each line of the text file constitutes the contents destined for each sublist.  Use the variable name _Q_ for this list of lists."
   ]
  },
  {
   "cell_type": "code",
   "execution_count": null,
   "metadata": {
    "collapsed": true
   },
   "outputs": [],
   "source": []
  },
  {
   "cell_type": "markdown",
   "metadata": {},
   "source": [
    "# Exercise 7\n",
    "\n",
    "Open the file named _L.txt_ and convert it into a list with numerical elements where each line of the text file constitutes the contents destined for an element of the list.  Create a list of lists in the variable name _Lambda_ that has all zero elements except along the diagonal where you should put the values from _L.txt_ in the order they appear in _L.txt_."
   ]
  },
  {
   "cell_type": "code",
   "execution_count": null,
   "metadata": {
    "collapsed": true
   },
   "outputs": [],
   "source": []
  },
  {
   "cell_type": "markdown",
   "metadata": {},
   "source": [
    "# Exercise 8\n",
    "\n",
    "Use for loops to transpose the list of lists in variable _Q_ and use the variable name _QT_ for the result."
   ]
  },
  {
   "cell_type": "code",
   "execution_count": null,
   "metadata": {
    "collapsed": true
   },
   "outputs": [],
   "source": []
  },
  {
   "cell_type": "markdown",
   "metadata": {},
   "source": [
    "# Exercise 9\n",
    "\n",
    "Square, real symmetric matrices, such as the one we represnet here with $A$, can be factored into three matrices of this form:\n",
    "\n",
    "$A = Q \\Lambda Q^T $\n",
    "\n",
    "Reconstitute the matrix A implied by the list of lists you have defined using this formula and your defined Python variables:  A = Q   Lambda   QT\n",
    "\n",
    "Hint: Round each matrix element of the result to an integer.  A distinct pattern will be present in the result if you have done the computation correctly."
   ]
  },
  {
   "cell_type": "code",
   "execution_count": null,
   "metadata": {
    "collapsed": true
   },
   "outputs": [],
   "source": []
  },
  {
   "cell_type": "markdown",
   "metadata": {},
   "source": [
    "# Exercise 10\n",
    "The data in the file <font name = 'courier'><i>npFull.txt</i></font> contains information about United States National Parks.  The first data element in each line of the file contains the name of the national park.  The remaining fields represent various data about each park including:\n",
    "- The states where the park is located\n",
    "- Park acreage\n",
    "- Number of visitors to each park in 2018\n",
    "- Latitude and Longitude\n",
    "- Date that each park was established\n",
    "\n",
    "Perform these tasks with the data\n",
    "- Read the data file, converting each numerical element of data into a numerical Python element\n",
    "- Create a dictionary <font name = 'courier'><i>natParkDict</i></font>\n",
    "    - The keys are the  name of the parks\n",
    "    - The dictionary values are the remaining data elements in each file line, inserted into a list"
   ]
  },
  {
   "cell_type": "code",
   "execution_count": null,
   "metadata": {
    "collapsed": true
   },
   "outputs": [],
   "source": []
  },
  {
   "cell_type": "markdown",
   "metadata": {},
   "source": [
    "# Exercise 11\n",
    "Repeat <b>Exercise 2</b> using list comprehension while naming the resulting lists _labels1_ and _pixels1_."
   ]
  },
  {
   "cell_type": "code",
   "execution_count": null,
   "metadata": {
    "collapsed": true
   },
   "outputs": [],
   "source": []
  },
  {
   "cell_type": "markdown",
   "metadata": {},
   "source": [
    "# Exercise 12\n",
    "Repeat <b>Exercise 3</b> using list comprehension while naming the resulting data structure _mnist2_."
   ]
  },
  {
   "cell_type": "code",
   "execution_count": null,
   "metadata": {
    "collapsed": true
   },
   "outputs": [],
   "source": []
  },
  {
   "cell_type": "markdown",
   "metadata": {},
   "source": [
    "# Exercise 13\n",
    "Repeat <b>Exercise 4</b> using list comprehension while naming the resulting data structure mnist3."
   ]
  },
  {
   "cell_type": "code",
   "execution_count": null,
   "metadata": {
    "collapsed": true
   },
   "outputs": [],
   "source": []
  }
 ],
 "metadata": {
  "kernelspec": {
   "display_name": "Python 3",
   "language": "python",
   "name": "python3"
  },
  "language_info": {
   "codemirror_mode": {
    "name": "ipython",
    "version": 3
   },
   "file_extension": ".py",
   "mimetype": "text/x-python",
   "name": "python",
   "nbconvert_exporter": "python",
   "pygments_lexer": "ipython3",
   "version": "3.6.3"
  }
 },
 "nbformat": 4,
 "nbformat_minor": 2
}
